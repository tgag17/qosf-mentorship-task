{
 "cells": [
  {
   "cell_type": "markdown",
   "metadata": {},
   "source": [
    "# QOSF Mentorship Assignment\n",
    "\n",
    "\n",
    "* **Name: Tanya Garg**\n",
    "* **Task No: 4**"
   ]
  },
  {
   "cell_type": "markdown",
   "metadata": {},
   "source": [
    "# Introduction:\n",
    "\n",
    "\n",
    "In the project, we will be finding the lowest eigenvalue of the matrix **H** mentioned below using a variational quantum eigensolver(VQE) algorithm made from scratch. Matrix **H** is given by:\n",
    "\n",
    "$ H=\\begin{bmatrix}\n",
    "1 & 0 & 0 & 0\\\\\n",
    "0 & 0 & -1 & 0\\\\\n",
    "0 & -1 & 0 & 0\\\\\n",
    "0 & 0 & 0 & 1\n",
    "\\end{bmatrix}$\n",
    "\n",
    "\n",
    "\n",
    "In this task, we will be using Qiskit."
   ]
  },
  {
   "cell_type": "code",
   "execution_count": 1,
   "metadata": {},
   "outputs": [],
   "source": [
    "#importing required libraries\n",
    "\n",
    "from qiskit import *\n",
    "from numpy import *\n",
    "import matplotlib.pyplot as plt\n",
    "from scipy import linalg"
   ]
  },
  {
   "cell_type": "markdown",
   "metadata": {},
   "source": [
    "\n",
    "\n",
    "### The task will broadly follow the following steps:\n",
    "* Step 1: Formation of the Hamiltonian by decomposing the **H** matrix into the sum of tensor products of Pauli matrices $\\Rightarrow$ X, Y, Z, I\n",
    "* Step 2: Formation of the Ansatz\n",
    "* Step 3: Calculating and plotting the expectation value of the hamiltonion calculated in Step 1\n",
    "* Step 4: Finding the minimum eigen value from the plot\n",
    "\n",
    "\n",
    "\n",
    "\n",
    "## Step 1: Decomposition into Pauli Matrices\n",
    "\n",
    "The Pauli matrices are represented as:\n",
    "\n",
    "$ X=\\left[ \\begin{array}{cc}\n",
    "0 & 1 \\\\\n",
    "1 & 0\n",
    "\\end{array} \\right]\\hspace{0.2in}\n",
    "%  \n",
    "Y=\\left[ \\begin{array}{cc}\n",
    "0 & -i \\\\\n",
    "i & 0\n",
    "\\end{array} \\right]\\hspace{0.2in}\n",
    "%   \n",
    "Z=\\left[ \\begin{array}{cc}\n",
    "1 & 0 \\\\\n",
    "0 & -1\n",
    "\\end{array} \\right]\n",
    "$\n",
    "\n",
    "\n",
    "\n",
    "After decompostion into Pauli Matrices, the matrix **H** will be in the form:\n",
    "\n",
    "$$H= x X\\otimes X + y Y\\otimes Y +z Z\\otimes Z+ e I\\otimes I$$\n",
    "\n",
    "\n",
    "Let us now compute the values of XX, YY, ZZ and II\n"
   ]
  },
  {
   "cell_type": "code",
   "execution_count": 2,
   "metadata": {},
   "outputs": [
    {
     "name": "stdout",
     "output_type": "stream",
     "text": [
      "XX Matrix:\n",
      " [[0 0 0 1]\n",
      " [0 0 1 0]\n",
      " [0 1 0 0]\n",
      " [1 0 0 0]]\n",
      "YY Matrix:\n",
      " [[ 0.  0.  0. -1.]\n",
      " [ 0.  0.  1.  0.]\n",
      " [ 0.  1.  0.  0.]\n",
      " [-1.  0.  0.  0.]]\n",
      "ZZ Matrix:\n",
      " [[ 1  0  0  0]\n",
      " [ 0 -1  0  0]\n",
      " [ 0  0 -1  0]\n",
      " [ 0  0  0  1]]\n",
      "II Matrix:\n",
      " [[1. 0. 0. 0.]\n",
      " [0. 1. 0. 0.]\n",
      " [0. 0. 1. 0.]\n",
      " [0. 0. 0. 1.]]\n"
     ]
    }
   ],
   "source": [
    "#Computing X, Y, Z \n",
    "X=array([[0,1],[1,0]])\n",
    "Y=array([[0,-1j],[1j,0]])\n",
    "Z=array([[1,0],[0,-1]])\n",
    "\n",
    "#Computing XX,YY,ZZ,II\n",
    "\n",
    "XX=kron(X,X)\n",
    "YY=kron(Y,Y)\n",
    "ZZ=kron(Z,Z)\n",
    "II=eye(4)\n",
    "\n",
    "# YY matrix should be real:\n",
    "YY=real(YY)\n",
    "\n",
    "#Displaying the computed matrices\n",
    "print('XX Matrix:\\n',XX)\n",
    "print('YY Matrix:\\n',YY)\n",
    "print('ZZ Matrix:\\n',ZZ)\n",
    "print('II Matrix:\\n',II)\n"
   ]
  },
  {
   "cell_type": "markdown",
   "metadata": {},
   "source": [
    "Now we will compute the values of $ x,\\, y,\\, z \\, and \\,e$:"
   ]
  },
  {
   "cell_type": "code",
   "execution_count": 3,
   "metadata": {},
   "outputs": [
    {
     "name": "stdout",
     "output_type": "stream",
     "text": [
      "[-0.5, -0.5, 0.5, 0.5]\n"
     ]
    }
   ],
   "source": [
    "#Decomposition of H matrix:\n",
    "\n",
    "H=array([[1,0,0,0],[0,0,-1,0],[0,-1,0,0],[0,0,0,1]])\n",
    "t=[]\n",
    "\n",
    "for i in [XX,YY,ZZ,II]:\n",
    "    t.append(0.25*(dot(i.conjugate().transpose(),H)).trace())\n",
    "    \n",
    "[x,y,z,e]=t\n",
    "\n",
    "#Displaying the value of x,y,z and e\n",
    "print(t)"
   ]
  },
  {
   "cell_type": "markdown",
   "metadata": {},
   "source": [
    "## Step 2: Formation of the Ansatz\n",
    "\n",
    "Ansatz is a set of operations on our state which will be able to make it cover the whole vector space. It is a guess/assumption to reach the optimal solution. To optimize the circuit the ansatz should not have a lot of parameters and the circuit should not have a huge number of gates i.e. the circuit should be shallow.\n",
    "\n",
    "According to the hint given, the ideal ansatz would be: $\\left(R_x \\otimes I\\right)\\left(CX\\right)\\left(H\\otimes I\\right)$\n",
    "\n",
    "We will now build the ansatz circuit:"
   ]
  },
  {
   "cell_type": "code",
   "execution_count": 4,
   "metadata": {},
   "outputs": [
    {
     "data": {
      "image/png": "[encoded data removed]",
      "text/plain": [
       "<Figure size 358.792x144.48 with 1 Axes>"
      ]
     },
     "execution_count": 4,
     "metadata": {},
     "output_type": "execute_result"
    }
   ],
   "source": [
    "def ansatz(circuit,theta):\n",
    "    circuit.h(0)\n",
    "    circuit.cx(0,1)\n",
    "    circuit.rx(theta,0)\n",
    "    return circuit\n",
    "\n",
    "#visualisation of the ansatz circuit\n",
    "\n",
    "qc=QuantumCircuit(2)\n",
    "qc.h(0)\n",
    "qc.cx(0,1)\n",
    "qc.rx(pi/2,0) #the parameter(here pi/2) will vary in the actual implementation\n",
    "qc.draw('mpl')"
   ]
  },
  {
   "cell_type": "markdown",
   "metadata": {},
   "source": [
    "## Step 3: Calculation of the expectation value\n",
    "\n",
    "The expectation value is the probabilistically expected value of the result(measurement) of an experiment. Here, we will calculate the expectation value of **H** with respect to a quantum state $\\mid \\psi\\rangle$ which will be given to us by the ansatz.\n",
    "\n",
    "The expectation value of the **H** matrix will be given by:\n",
    "\n",
    "\n",
    "$$\\langle H\\rangle=\\langle\\psi\\left|H\\right|\\psi \\rangle=x \\langle\\psi\\left|X\\otimes X\\right|\\psi\\rangle + y \\langle\\psi\\left|Y\\otimes Y\\right|\\psi\\rangle +z \\langle\\psi\\left|Z\\otimes Z\\right|\\psi\\rangle+ e \\langle\\psi\\left|I\\otimes I\\right|\\psi\\rangle$$\n",
    "\n",
    "\n",
    "From the above expression we can see that due to the linearity of the quantum state the expectation value of **H** will be equal to the sum of the expectation values of the individual terms.\n",
    "As all the 'computational measurements' takes place in the Z basis, the calculation of the expectation value of $Z\\otimes Z$ will a straightforward one.\n",
    "\n",
    "$\\mid \\psi\\rangle$ is a 2-qubit quantum state and is thus defined as:\n",
    "\n",
    "\n",
    "$$\\mid \\psi\\rangle=a\\mid00\\rangle+b\\mid01\\rangle+c\\mid10\\rangle+d\\mid11\\rangle$$\n",
    "\n",
    "\n",
    "where the square of the coefficient of each state gives us the probability of obtaining that state on measurement.\n",
    "\n",
    "When measuring the Z basis, we will have to remember that the expectation value of $\\mid0\\rangle$ is 1 and the expectation value of $\\mid1\\rangle$ is -1. Therefore, the expectation value of $Z\\otimes Z$ will be:\n",
    "\n",
    "\n",
    "$$\\langle\\psi\\left|Z\\otimes Z\\right|\\psi\\rangle= a^2+d^2-b^2-c^2$$\n",
    "\n",
    "\n",
    "Therefore, while implementing the VQE algorithm on the Quantum Computer(where probability is given in the form of shots) the probability for each state will be given by:\n",
    "\n",
    "$$P\\left(state\\right)=\\frac{no. of shots\\, for \\, that\\, state}{Total\\, no \\,of \\,shots}$$\n",
    "\n",
    "To get the expectation value of the $X\\otimes X$ and $Y\\otimes Y$  terms, we will convert the Z basis into the X and Y basis respectively which can be done in the following manner:\n",
    "\n",
    "$$X=HZH$$\n",
    "\n",
    "$$Y=\\left(HS^\\dagger\\right) ^\\dagger Z \\left(S^\\dagger H\\right)$$\n",
    "\n",
    "where \n",
    "$ H=\\left[ \\begin{array}{cc}\n",
    "\\frac{1}{\\sqrt{2}} & \\frac{1}{\\sqrt{2}} \\\\\n",
    "\\frac{1}{\\sqrt{2}} & \\frac{-1}{\\sqrt{2}}\n",
    "\\end{array} \\right]\\hspace{0.2in}\n",
    "%  \n",
    "S^\\dagger =\\left[ \\begin{array}{cc}\n",
    "1 & 0 \\\\\n",
    "0 & -i\n",
    "\\end{array} \\right]\n",
    "$\n",
    "\n",
    "Therefore, the expectation values are given as follows:\n",
    "\n",
    "\n",
    "$$\\langle\\psi\\left|X\\otimes X\\right|\\psi\\rangle= \\langle\\psi\\left|\\left(H\\otimes H\\right)Z\\otimes Z\\left(H\\otimes H\\right)\\right|\\psi\\rangle$$\n",
    "\n",
    "\n",
    "$$\\langle\\psi\\left|Y\\otimes Y\\right|\\psi\\rangle= \\langle\\psi\\left|\\left(HS^\\dagger\\otimes HS^\\dagger\\right)^\\dagger Z\\otimes Z\\left(HS^\\dagger\\otimes HS^\\dagger\\right)\\right|\\psi\\rangle$$\n",
    "\n",
    "We will now compute the expectation values using the above mentioned expressions:\n",
    "\n",
    "\n"
   ]
  },
  {
   "cell_type": "code",
   "execution_count": 5,
   "metadata": {},
   "outputs": [],
   "source": [
    "#function to measure the expectation value of ZZ on the 2-qubit state\n",
    "\n",
    "def ZZ_expectation_value(circuit,shots):\n",
    "    \n",
    "    circuit.measure_all()   #measuring all qubits to cbits\n",
    "    \n",
    "    backend=Aer.get_backend('qasm_simulator')\n",
    "    result_zz=execute(circuit,backend=backend,shots=shots).result()\n",
    "    items=result_zz.get_counts().items()\n",
    "    counts=0\n",
    "    \n",
    "    for key,value in items:\n",
    "        counts=counts+ (-1)**(int(key[0])+int(key[1]))*value\n",
    "        \n",
    "    return counts/shots #expectation value of measurement of ZZ     \n",
    "\n",
    "\n",
    "#function to measure the expectation value of XX on the 2-qubit state\n",
    "\n",
    "def XX_expectation_value(circuit,shots):\n",
    "    \n",
    "    #changing XX to ZZ basis\n",
    "    circuit.h(0)\n",
    "    circuit.h(1)\n",
    "    \n",
    "    #Calculating the expectation value\n",
    "    value=ZZ_expectation_value(circuit,shots)\n",
    "    return value\n",
    "\n",
    "\n",
    "#function for measure the expectation value of YY on the 2-qubit state\n",
    "\n",
    "def YY_expectation_value(circuit,shots):\n",
    "    \n",
    "    #changing YY to ZZ basis\n",
    "    circuit.sdg(0)\n",
    "    circuit.sdg(1)\n",
    "    circuit.h(0)\n",
    "    circuit.h(1)\n",
    "    \n",
    "    #Calculating the expectation value\n",
    "    value=ZZ_expectation_value(circuit,shots)\n",
    "    return value\n",
    "\n",
    "                             "
   ]
  },
  {
   "cell_type": "markdown",
   "metadata": {},
   "source": [
    "Now we will implement the runner code and plot the calculated expectation values of the **H** matrix at different values of theta i.e. at different ansatz."
   ]
  },
  {
   "cell_type": "code",
   "execution_count": 6,
   "metadata": {},
   "outputs": [
    {
     "data": {
      "text/plain": [
       "Text(0.5, 1.0, 'Curve of expectation value vs theta')"
      ]
     },
     "execution_count": 6,
     "metadata": {},
     "output_type": "execute_result"
    },
    {
     "data": {
      "image/png": "[encoded data removed]",
      "text/plain": [
       "<Figure size 432x288 with 1 Axes>"
      ]
     },
     "metadata": {
      "needs_background": "light"
     },
     "output_type": "display_data"
    }
   ],
   "source": [
    "\n",
    "#Initialising the number of shots\n",
    "\n",
    "shots=2048\n",
    "\n",
    "#initialising the range of values for theta\n",
    "\n",
    "theta=linspace(0,2*pi,200)\n",
    "value=[]\n",
    "E=0\n",
    "\n",
    "#Calculating the expectation values of H\n",
    "for i in theta:\n",
    "    \n",
    "    \n",
    "    #XX component\n",
    "    circuit_XX = QuantumCircuit(2,2)\n",
    "    circuit_XX = ansatz(circuit_XX,i)\n",
    "    E=E+x*XX_expectation_value(circuit_XX,shots)\n",
    "    \n",
    "    \n",
    "    #YY component\n",
    "    circuit_YY = QuantumCircuit(2,2)\n",
    "    circuit_YY = ansatz(circuit_YY,i)  \n",
    "    E=E+y*YY_expectation_value(circuit_YY,shots)\n",
    "    \n",
    "    \n",
    "    #ZZ component\n",
    "    circuit_ZZ = QuantumCircuit(2,2)\n",
    "    circuit_ZZ = ansatz(circuit_ZZ,i)\n",
    "    E=E+z*ZZ_expectation_value(circuit_ZZ,shots)\n",
    "    \n",
    "    \n",
    "    #II component\n",
    "    E=E+e\n",
    "    \n",
    "    \n",
    "    value.append(E)\n",
    "    E=0\n",
    "    \n",
    "   \n",
    "#Plotting the calculated expectation values:\n",
    "\n",
    "plt.plot(theta,value)\n",
    "plt.xlabel('Value of theta')\n",
    "plt.ylabel('Calculated expectation value')\n",
    "plt.title('Curve of expectation value vs theta')\n",
    "\n",
    "    \n"
   ]
  },
  {
   "cell_type": "markdown",
   "metadata": {},
   "source": [
    "## Step 4: Finding the minimum eigen value\n",
    "\n",
    "We will now find the minimum eigen value of the **H** matrix by the above plot and compare it to the minimum eigen value calculated by an inbuilt function from scipy"
   ]
  },
  {
   "cell_type": "code",
   "execution_count": 7,
   "metadata": {},
   "outputs": [
    {
     "name": "stdout",
     "output_type": "stream",
     "text": [
      "Minimum Eigen value of the H matrix using a quantum computer is : -1.0\n",
      "Value of theta at which the expectation value is minimum:  3.1258\n",
      "\n",
      "Minimum eigen value of the H matrix by inbuilt function is:  -1.0\n"
     ]
    }
   ],
   "source": [
    "#Minimum eigenvalue/expectation value using the plot\n",
    "\n",
    "min_calc=round(min(value),5)\n",
    "print('Minimum Eigen value of the H matrix using a quantum computer is :',min_calc)\n",
    "\n",
    "\n",
    "#Value of theta at the minimum expectation value is obtained\n",
    "\n",
    "theta_calc=round(theta[value.index(min(value))],4)\n",
    "print('Value of theta at which the expectation value is minimum: ',theta_calc)\n",
    "\n",
    "\n",
    "#Minimum eigenvalue/expectation value using the plot\n",
    "\n",
    "min_theor=linalg.eig(H)                   \n",
    "min_theor=real(min(min_theor[0])) #real as all the elements in matrix are real\n",
    "print('\\nMinimum eigen value of the H matrix by inbuilt function is: ',min_theor) "
   ]
  }
 ],
 "metadata": {
  "kernelspec": {
   "display_name": "Python 3",
   "language": "python",
   "name": "python3"
  },
  "language_info": {
   "codemirror_mode": {
    "name": "ipython",
    "version": 3
   },
   "file_extension": ".py",
   "mimetype": "text/x-python",
   "name": "python",
   "nbconvert_exporter": "python",
   "pygments_lexer": "ipython3",
   "version": "3.7.4"
  }
 },
 "nbformat": 4,
 "nbformat_minor": 2
}
